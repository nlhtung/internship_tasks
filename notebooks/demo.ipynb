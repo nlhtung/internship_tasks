{
 "cells": [
  {
   "cell_type": "code",
   "execution_count": 2,
   "id": "fe8d681b",
   "metadata": {
    "scrolled": true,
    "vscode": {
     "languageId": "plaintext"
    }
   },
   "outputs": [
    {
     "name": "stdout",
     "output_type": "stream",
     "text": [
      "2\n",
      "root\n",
      " |-- _c0: string (nullable = true)\n",
      " |-- _c1: string (nullable = true)\n",
      " |-- _c2: string (nullable = true)\n",
      " |-- _c3: string (nullable = true)\n",
      " |-- _c4: string (nullable = true)\n",
      "\n",
      "+--------+-----------+----------+------------+--------+\n",
      "|     _c0|        _c1|       _c2|         _c3|     _c4|\n",
      "+--------+-----------+----------+------------+--------+\n",
      "|order_id|customer_id|order_date|total_amount|currency|\n",
      "|    1001|          1|2025-06-01|      500000|     VND|\n",
      "|    1002|          2|2025-06-02|      750000|     VND|\n",
      "|    1003|          3|2025-06-01|         100|     USD|\n",
      "|    1004|          4|2025-06-03|          80|     GBP|\n",
      "|    1005|          1|2025-06-05|          50|     EUR|\n",
      "+--------+-----------+----------+------------+--------+\n",
      "\n"
     ]
    }
   ],
   "source": [
    "from pyspark.sql import SparkSession\n",
    "\n",
    "spark = SparkSession.builder.appName(\"NotebookSpark\") \\\n",
    "                            .master(\"spark://spark-master:7077\") \\\n",
    "                            .getOrCreate()\n",
    "print(1+1)\n",
    "df = spark.read.option(\"mode\",\"DROPMALFORMED\").csv(\"data/orders.csv\")\n",
    "df.printSchema()\n",
    "df.show()\n",
    "spark.stop()"
   ]
  },
  {
   "cell_type": "code",
   "execution_count": null,
   "id": "24dad843-0b03-4ac0-8e3e-70ae37c311ae",
   "metadata": {},
   "outputs": [],
   "source": []
  },
  {
   "cell_type": "code",
   "execution_count": null,
   "id": "52fae169-0e75-4e34-896e-c6c9b97bc12e",
   "metadata": {},
   "outputs": [],
   "source": []
  }
 ],
 "metadata": {
  "kernelspec": {
   "display_name": "Python 3 (ipykernel)",
   "language": "python",
   "name": "python3"
  },
  "language_info": {
   "codemirror_mode": {
    "name": "ipython",
    "version": 3
   },
   "file_extension": ".py",
   "mimetype": "text/x-python",
   "name": "python",
   "nbconvert_exporter": "python",
   "pygments_lexer": "ipython3",
   "version": "3.11.5"
  }
 },
 "nbformat": 4,
 "nbformat_minor": 5
}
